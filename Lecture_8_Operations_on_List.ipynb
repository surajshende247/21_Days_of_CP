{
  "nbformat": 4,
  "nbformat_minor": 0,
  "metadata": {
    "colab": {
      "name": "Lecture-8 Operations on List.ipynb",
      "provenance": [],
      "authorship_tag": "ABX9TyMiwWX9xcviKS6cAEGsAdiv",
      "include_colab_link": true
    },
    "kernelspec": {
      "name": "python3",
      "display_name": "Python 3"
    },
    "language_info": {
      "name": "python"
    }
  },
  "cells": [
    {
      "cell_type": "markdown",
      "metadata": {
        "id": "view-in-github",
        "colab_type": "text"
      },
      "source": [
        "<a href=\"https://colab.research.google.com/github/surajshende247/21_Days_of_CP/blob/master/Lecture_8_Operations_on_List.ipynb\" target=\"_parent\"><img src=\"https://colab.research.google.com/assets/colab-badge.svg\" alt=\"Open In Colab\"/></a>"
      ]
    },
    {
      "cell_type": "code",
      "metadata": {
        "colab": {
          "base_uri": "https://localhost:8080/"
        },
        "id": "KeZxlC85-4JJ",
        "outputId": "eccfe786-a752-4659-c43c-c3fb91188804"
      },
      "source": [
        "#update operation\n",
        "courses = [\"C\", \"C++\", \"Python\", \"Java\", \"MERN\", \"Android\"]\n",
        "print(\"Original List: \",courses)\n",
        "\n",
        "courses[1] = \"C++ Programming\"\n",
        "print(\"Updated List: \", courses)"
      ],
      "execution_count": 2,
      "outputs": [
        {
          "output_type": "stream",
          "text": [
            "Original List ['C', 'C++', 'Python', 'Java', 'MERN', 'Android']\n",
            "Updated List ['C', 'C++ Programming', 'Python', 'Java', 'MERN', 'Android']\n"
          ],
          "name": "stdout"
        }
      ]
    },
    {
      "cell_type": "code",
      "metadata": {
        "colab": {
          "base_uri": "https://localhost:8080/"
        },
        "id": "CzeNtjnJAkeH",
        "outputId": "9ada5537-9ecd-4664-f3cc-a9c5f710f452"
      },
      "source": [
        "#insert operation\n",
        "courses = [\"C\", \"C++\", \"Python\", \"Java\", \"MERN\", \"Android\"]\n",
        "print(courses)#Original List\n",
        "\n",
        "courses.insert(5, \"PHP\")#New List\n",
        "print(courses)"
      ],
      "execution_count": 9,
      "outputs": [
        {
          "output_type": "stream",
          "text": [
            "['C', 'C++', 'Python', 'Java', 'MERN', 'Android']\n",
            "['C', 'C++', 'Python', 'Java', 'MERN', 'PHP', 'Android']\n"
          ],
          "name": "stdout"
        }
      ]
    },
    {
      "cell_type": "code",
      "metadata": {
        "colab": {
          "base_uri": "https://localhost:8080/"
        },
        "id": "3QZc5JrYBvt0",
        "outputId": "4e94e4db-67b2-4439-86e8-2f3b56409888"
      },
      "source": [
        "#delete operation\n",
        "courses = [\"C\", \"C++\", \"Python\", \"Java\", \"MERN\", \"Android\"]\n",
        "print(courses)#Original List\n",
        "\n",
        "#remove() using list item name\n",
        "courses.remove(\"Python\")\n",
        "print(courses)"
      ],
      "execution_count": 10,
      "outputs": [
        {
          "output_type": "stream",
          "text": [
            "['C', 'C++', 'Python', 'Java', 'MERN', 'Android']\n",
            "['C', 'C++', 'Java', 'MERN', 'Android']\n"
          ],
          "name": "stdout"
        }
      ]
    },
    {
      "cell_type": "code",
      "metadata": {
        "colab": {
          "base_uri": "https://localhost:8080/"
        },
        "id": "mL_F7D-DCVPt",
        "outputId": "4dfac29b-850c-48d8-f909-1b2b0c482380"
      },
      "source": [
        "#delete operation\n",
        "courses = [\"C\", \"C++\", \"Pinhon\", \"Java\", \"MERN\", \"Android\"]\n",
        "print(courses)#Original List\n",
        "\n",
        "#pop() using list item index\n",
        "courses.pop(3)\n",
        "print(courses)"
      ],
      "execution_count": 13,
      "outputs": [
        {
          "output_type": "stream",
          "text": [
            "['C', 'C++', 'Python', 'Java', 'MERN', 'Android']\n",
            "['C', 'C++', 'Python', 'MERN', 'Android']\n"
          ],
          "name": "stdout"
        }
      ]
    },
    {
      "cell_type": "code",
      "metadata": {
        "colab": {
          "base_uri": "https://localhost:8080/"
        },
        "id": "GjksqLmnCxGy",
        "outputId": "73fb5ac1-83a8-40c7-da13-40364ae85f96"
      },
      "source": [
        "#delete operation\n",
        "courses = [\"C\", \"C++\", \"Python\", \"Java\", \"MERN\", \"Android\"]\n",
        "print(courses)#Original List\n",
        "\n",
        "#del keyword\n",
        "del courses[4]\n",
        "print(courses)"
      ],
      "execution_count": 14,
      "outputs": [
        {
          "output_type": "stream",
          "text": [
            "['C', 'C++', 'Python', 'Java', 'MERN', 'Android']\n",
            "['C', 'C++', 'Python', 'Java', 'Android']\n"
          ],
          "name": "stdout"
        }
      ]
    },
    {
      "cell_type": "code",
      "metadata": {
        "colab": {
          "base_uri": "https://localhost:8080/"
        },
        "id": "HdSxM25wD-fX",
        "outputId": "7ff9f6c6-6271-48ff-b416-8d5236f9895a"
      },
      "source": [
        "#clear operation\n",
        "courses = [\"C\", \"C++\", \"Python\", \"Java\", \"MERN\", \"Android\"]\n",
        "print(courses)#Original List\n",
        "\n",
        "#clear() \n",
        "courses.clear()\n",
        "print(courses)"
      ],
      "execution_count": 15,
      "outputs": [
        {
          "output_type": "stream",
          "text": [
            "['C', 'C++', 'Python', 'Java', 'MERN', 'Android']\n",
            "[]\n"
          ],
          "name": "stdout"
        }
      ]
    },
    {
      "cell_type": "code",
      "metadata": {
        "colab": {
          "base_uri": "https://localhost:8080/"
        },
        "id": "TqdLk6EvERV9",
        "outputId": "d4201342-9276-410d-da93-946822904c90"
      },
      "source": [
        "#clear list using del\n",
        "courses = [\"C\", \"C++\", \"Python\", \"Java\", \"MERN\", \"Android\"]\n",
        "print(courses)#Original List\n",
        "\n",
        "del courses\n",
        "#NameError: name 'courses' is not defined\n",
        "#print(courses)"
      ],
      "execution_count": 19,
      "outputs": [
        {
          "output_type": "stream",
          "text": [
            "['C', 'C++', 'Python', 'Java', 'MERN', 'Android']\n"
          ],
          "name": "stdout"
        }
      ]
    },
    {
      "cell_type": "code",
      "metadata": {
        "id": "GUQO0i0pFGww"
      },
      "source": [
        "#Looping on List will be covered in Loop Topic"
      ],
      "execution_count": null,
      "outputs": []
    },
    {
      "cell_type": "code",
      "metadata": {
        "colab": {
          "base_uri": "https://localhost:8080/"
        },
        "id": "nDtUdeMwFL7L",
        "outputId": "fcedbdaa-ddb6-4036-86bd-e518c63f90cf"
      },
      "source": [
        "#Sorting on List\n",
        "rollNo = [6,1,9,2,4,7,3,5,8]\n",
        "print(\"Unsorted List 👇\")\n",
        "print(rollNo)\n",
        "\n",
        "print(\"\\n\\n\")\n",
        "\n",
        "rollNo.sort()#Ascending\n",
        "print(\"Sorted List 👇\")\n",
        "print(rollNo)\n",
        "\n",
        "print(\"\\n\\n\")\n",
        "\n",
        "rollNo.sort(reverse=True)#Descending\n",
        "print(\"Sorted List 👇\")\n",
        "print(rollNo)"
      ],
      "execution_count": 26,
      "outputs": [
        {
          "output_type": "stream",
          "text": [
            "Unsorted List 👇\n",
            "[6, 1, 9, 2, 4, 7, 3, 5, 8]\n",
            "\n",
            "\n",
            "\n",
            "Sorted List 👇\n",
            "[1, 2, 3, 4, 5, 6, 7, 8, 9]\n",
            "\n",
            "\n",
            "\n",
            "Sorted List 👇\n",
            "[9, 8, 7, 6, 5, 4, 3, 2, 1]\n"
          ],
          "name": "stdout"
        }
      ]
    },
    {
      "cell_type": "code",
      "metadata": {
        "colab": {
          "base_uri": "https://localhost:8080/"
        },
        "id": "HUG7BH2YHOx8",
        "outputId": "87f70a8e-1245-4c18-9fec-b1dba031111b"
      },
      "source": [
        "#Priority List in Sorting {Numbers > Capital Letters > Small Letters}\n",
        "sampleList = [str(9), str(8), \"a\", \"z\", \"q\", \"A\", \"Z\", \"Q\"]\n",
        "sampleList.sort()\n",
        "print(sampleList)"
      ],
      "execution_count": 30,
      "outputs": [
        {
          "output_type": "stream",
          "text": [
            "['8', '9', 'A', 'Q', 'Z', 'a', 'q', 'z']\n"
          ],
          "name": "stdout"
        }
      ]
    },
    {
      "cell_type": "code",
      "metadata": {
        "colab": {
          "base_uri": "https://localhost:8080/"
        },
        "id": "R4jPvR2zIMpx",
        "outputId": "aa9946a9-86ee-4839-e6c8-021ffd6a07b1"
      },
      "source": [
        "#Copying List\n",
        "courses = [\"C\", \"Web\", \"Python\"]\n",
        "newCourse = courses.copy()\n",
        "print(newCourse)"
      ],
      "execution_count": 31,
      "outputs": [
        {
          "output_type": "stream",
          "text": [
            "['C', 'Web', 'Python']\n"
          ],
          "name": "stdout"
        }
      ]
    },
    {
      "cell_type": "code",
      "metadata": {
        "colab": {
          "base_uri": "https://localhost:8080/"
        },
        "id": "Qk2yWP_0JBfa",
        "outputId": "4c300020-0de3-4544-b59a-825c70ed0a2a"
      },
      "source": [
        "#Reference\n",
        "courses = [\"C\", \"Web\", \"Python\"]\n",
        "newCourse = courses #it will create a reference\n",
        "print(newCourse)\n",
        "print(courses)\n",
        "\n",
        "del courses[0]\n",
        "\n",
        "print(newCourse)\n",
        "print(courses)\n"
      ],
      "execution_count": 36,
      "outputs": [
        {
          "output_type": "stream",
          "text": [
            "['C', 'Web', 'Python']\n",
            "['C', 'Web', 'Python']\n",
            "['Web', 'Python']\n",
            "['Web', 'Python']\n"
          ],
          "name": "stdout"
        }
      ]
    }
  ]
}